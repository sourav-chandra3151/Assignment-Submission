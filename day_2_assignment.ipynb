{
 "cells": [
  {
   "cell_type": "markdown",
   "metadata": {},
   "source": [
    "# Question 1:"
   ]
  },
  {
   "cell_type": "code",
   "execution_count": 9,
   "metadata": {},
   "outputs": [
    {
     "name": "stdout",
     "output_type": "stream",
     "text": [
      "2\n",
      "5\n",
      "17\n",
      "82\n",
      "14\n",
      "15\n",
      "9\n",
      "10\n",
      "11\n",
      "12\n",
      "[2, 82, 14, 10, 12]\n"
     ]
    }
   ],
   "source": [
    "list_1 =[]\n",
    "\n",
    "for i in range(10):\n",
    "    n = int(input())\n",
    "    if n%2==0:\n",
    "        list_1.append(n)\n",
    "print(list_1)        "
   ]
  },
  {
   "cell_type": "markdown",
   "metadata": {},
   "source": [
    "# Question 2:"
   ]
  },
  {
   "cell_type": "markdown",
   "metadata": {},
   "source": [
    "## List comprehension arer use to creating new list from other iterables.As list comprehensions return lists,they consist of brackets containing the expression, which is executed for each element along with the for loop to iterate over each element."
   ]
  },
  {
   "cell_type": "code",
   "execution_count": 7,
   "metadata": {},
   "outputs": [
    {
     "name": "stdout",
     "output_type": "stream",
     "text": [
      "[1, 4, 9, 16, 25, 36, 49, 64, 81, 100]\n"
     ]
    }
   ],
   "source": [
    "#Examples:\n",
    "\n",
    "l1 = [i**2 for i in range(1,11)]\n",
    "print(l1)\n"
   ]
  },
  {
   "cell_type": "markdown",
   "metadata": {},
   "source": [
    "# Question 3:"
   ]
  },
  {
   "cell_type": "code",
   "execution_count": 8,
   "metadata": {},
   "outputs": [
    {
     "name": "stdout",
     "output_type": "stream",
     "text": [
      "8\n",
      "{1: 1, 2: 4, 3: 9, 4: 16, 5: 25, 6: 36, 7: 49, 8: 64}\n"
     ]
    }
   ],
   "source": [
    "d = {}\n",
    "n = int(input())\n",
    "\n",
    "for i in range(1,n+1):\n",
    "    d[i] = i*i\n",
    "print(d)"
   ]
  },
  {
   "cell_type": "markdown",
   "metadata": {},
   "source": [
    "# Question 4:"
   ]
  },
  {
   "cell_type": "code",
   "execution_count": 10,
   "metadata": {},
   "outputs": [
    {
     "name": "stdout",
     "output_type": "stream",
     "text": [
      "4\n",
      "UP 5\n",
      "DOWN 3\n",
      "LEFT 3\n",
      "RIGHT 2\n",
      "2\n"
     ]
    }
   ],
   "source": [
    "import math\n",
    "\n",
    "x,y=0,0         #declearing the origin\n",
    "\n",
    "# getting theb input from the user\n",
    "\n",
    "n=int(input())\n",
    "\n",
    "for i in range(n):\n",
    "    movement = input().split(\" \")\n",
    "    \n",
    "    #Movements\n",
    "    if movement[0]==\"UP\":\n",
    "        y+=int(movement[1])\n",
    "    elif movement[0]==\"DOWN\":\n",
    "        y-=int(movement[1])\n",
    "    elif movement[0]==\"LEFT\":\n",
    "        x-=int(movement[1])\n",
    "    elif movement[0]==\"RIGHT\":\n",
    "        x+=int(movement[1])\n",
    "#claculating distance\n",
    "result = math.sqrt(x**2+y**2)\n",
    "print(round(result))"
   ]
  },
  {
   "cell_type": "code",
   "execution_count": null,
   "metadata": {},
   "outputs": [],
   "source": []
  }
 ],
 "metadata": {
  "kernelspec": {
   "display_name": "Python 3",
   "language": "python",
   "name": "python3"
  },
  "language_info": {
   "codemirror_mode": {
    "name": "ipython",
    "version": 3
   },
   "file_extension": ".py",
   "mimetype": "text/x-python",
   "name": "python",
   "nbconvert_exporter": "python",
   "pygments_lexer": "ipython3",
   "version": "3.8.3"
  }
 },
 "nbformat": 4,
 "nbformat_minor": 4
}
