{
 "cells": [
  {
   "cell_type": "markdown",
   "metadata": {},
   "source": [
    "# Question 1:"
   ]
  },
  {
   "cell_type": "code",
   "execution_count": 1,
   "metadata": {},
   "outputs": [
    {
     "name": "stdout",
     "output_type": "stream",
     "text": [
      "[ 2  5  8 11 14 17 20 23 26 29 32 35 38 41 44 47 50]\n"
     ]
    }
   ],
   "source": [
    "import numpy as np\n",
    "\n",
    "arr = np.arange(2,51,3)\n",
    "print(arr)"
   ]
  },
  {
   "cell_type": "markdown",
   "metadata": {},
   "source": [
    "# Question 2:"
   ]
  },
  {
   "cell_type": "code",
   "execution_count": 4,
   "metadata": {},
   "outputs": [
    {
     "name": "stdout",
     "output_type": "stream",
     "text": [
      "enter the elements of list 1:\n",
      "2\n",
      "4\n",
      "9\n",
      "1\n",
      "14\n",
      "enter the elements of list 2:\n",
      "11\n",
      "3\n",
      "17\n",
      "15\n",
      "8\n",
      "[ 2  4  9  1 14 11  3 17 15  8]\n",
      "[ 1  2  4  9 14]\n",
      "[ 3  8 11 15 17]\n",
      "[ 1  2  3  4  8  9 11 14 15 17]\n"
     ]
    }
   ],
   "source": [
    "print('enter the elements of list 1:')\n",
    "list1 = [int(input()) for i in range(5)]\n",
    "arr1 = np.array(list1)\n",
    "\n",
    "print('enter the elements of list 2:')\n",
    "list2 = [int(input()) for i in range(5)]\n",
    "arr2=np.array(list2)\n",
    "\n",
    "arr = np.concatenate((arr1,arr2))\n",
    "print(arr)\n",
    "\n",
    "print(np.sort(arr1))\n",
    "print(np.sort(arr2))\n",
    "print(np.sort(arr))\n"
   ]
  },
  {
   "cell_type": "markdown",
   "metadata": {},
   "source": [
    "# Question 3:"
   ]
  },
  {
   "cell_type": "code",
   "execution_count": 21,
   "metadata": {},
   "outputs": [
    {
     "name": "stdout",
     "output_type": "stream",
     "text": [
      "dimension : 2\n",
      "size : 9\n"
     ]
    }
   ],
   "source": [
    "nums =np.arange(9).reshape(3,3)\n",
    "arr_2d=np.array(nums)\n",
    "\n",
    "#dimensions of the array\n",
    "\n",
    "print(f'dimension : {arr_2d.ndim}')\n",
    "\n",
    "#size of the array\n",
    "\n",
    "print(f'size : {arr_2d.size}')"
   ]
  },
  {
   "cell_type": "markdown",
   "metadata": {},
   "source": [
    "# Question 4:"
   ]
  },
  {
   "cell_type": "code",
   "execution_count": 14,
   "metadata": {},
   "outputs": [
    {
     "name": "stdout",
     "output_type": "stream",
     "text": [
      "(6,)\n",
      "[[1]\n",
      " [2]\n",
      " [3]\n",
      " [4]\n",
      " [5]\n",
      " [6]]\n",
      "(6, 1)\n",
      "[[1 2 3 4 5 6]]\n",
      "(1, 6)\n"
     ]
    }
   ],
   "source": [
    "arr = np.array([1,2,3,4,5,6])\n",
    "print(arr.shape)\n",
    "\n",
    "arr1 = arr[:,np.newaxis]\n",
    "print(arr1)\n",
    "print(arr1.shape)\n",
    "\n",
    "arr2=np.expand_dims(arr,axis=0)\n",
    "print(arr2)\n",
    "print(arr2.shape)"
   ]
  },
  {
   "cell_type": "markdown",
   "metadata": {},
   "source": [
    "# Question 5:"
   ]
  },
  {
   "cell_type": "code",
   "execution_count": 15,
   "metadata": {},
   "outputs": [
    {
     "name": "stdout",
     "output_type": "stream",
     "text": [
      "[[ 1  2  3  4]\n",
      " [ 5  6  7  8]\n",
      " [ 9 10 11 12]\n",
      " [13 14 15 16]\n",
      " [17 18 19 20]\n",
      " [21 22 23 24]\n",
      " [25 26 27 28]\n",
      " [29 30 31 32]]\n",
      "[[ 1  2  3  4 17 18 19 20]\n",
      " [ 5  6  7  8 21 22 23 24]\n",
      " [ 9 10 11 12 25 26 27 28]\n",
      " [13 14 15 16 29 30 31 32]]\n"
     ]
    }
   ],
   "source": [
    "arr1 = np.arange(1,17).reshape(4,4)\n",
    "arr2 = np.arange(17,33).reshape(4,4)\n",
    "\n",
    "# vstack()\n",
    "arrv = np.vstack((arr1,arr2))\n",
    "print(arrv)\n",
    "\n",
    "# hstack()\n",
    "arrh = np.hstack((arr1,arr2))\n",
    "print(arrh)"
   ]
  },
  {
   "cell_type": "markdown",
   "metadata": {},
   "source": [
    "# Question 6:\n"
   ]
  },
  {
   "cell_type": "markdown",
   "metadata": {},
   "source": [
    "## np.unique function can be used to get the unique items.By passing the argument return_counts=True  along with the array we get the unique items and their count"
   ]
  },
  {
   "cell_type": "code",
   "execution_count": 19,
   "metadata": {},
   "outputs": [
    {
     "name": "stdout",
     "output_type": "stream",
     "text": [
      "[[ 1  6]\n",
      " [ 2  3]\n",
      " [ 3  2]\n",
      " [ 5  2]\n",
      " [10  1]]\n"
     ]
    }
   ],
   "source": [
    "arr = np.array([1,1,1,1,2,2,2,3,3,5,5,1,1,10])\n",
    "\n",
    "unique , counts = np.unique(arr,return_counts=True)\n",
    "x = np.asarray((unique,counts)).T\n",
    "\n",
    "print(x)"
   ]
  }
 ],
 "metadata": {
  "kernelspec": {
   "display_name": "Python 3",
   "language": "python",
   "name": "python3"
  },
  "language_info": {
   "codemirror_mode": {
    "name": "ipython",
    "version": 3
   },
   "file_extension": ".py",
   "mimetype": "text/x-python",
   "name": "python",
   "nbconvert_exporter": "python",
   "pygments_lexer": "ipython3",
   "version": "3.8.3"
  }
 },
 "nbformat": 4,
 "nbformat_minor": 4
}
